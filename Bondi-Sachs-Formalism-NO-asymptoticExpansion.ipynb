{
 "cells": [
  {
   "cell_type": "code",
   "execution_count": 80,
   "id": "644628ee-dbee-4079-85c7-29119a6fa2da",
   "metadata": {},
   "outputs": [],
   "source": [
    "# -----------------------------------------------------------------------------\n",
    "# Bondi-Sachs Formalism for Gravitational Memory\n",
    "# Author: Elham Sarvari\n",
    "# Date: July 2025\n",
    "# Description: Symbolic implementation of the Bondi formalism using Sagemanifold\n",
    "#              for studying non linear memory effects.\n",
    "# -----------------------------------------------------------------------------"
   ]
  },
  {
   "cell_type": "code",
   "execution_count": 133,
   "id": "3c79cfa6-c616-4a0e-9a9e-8f14312b7e05",
   "metadata": {},
   "outputs": [],
   "source": [
    "%display latex"
   ]
  },
  {
   "cell_type": "code",
   "execution_count": 134,
   "id": "8af282e5-6e3a-40dd-9157-4e6d4c224b67",
   "metadata": {},
   "outputs": [],
   "source": [
    "#Defines a 4-dimensional Lorentzian manifold M\n",
    "M = Manifold(4, name='M',structure='Lorentzian')"
   ]
  },
  {
   "cell_type": "code",
   "execution_count": 135,
   "id": "47397cf0-2d0c-49d4-8191-6127643d103e",
   "metadata": {},
   "outputs": [],
   "source": [
    "X.<u,r,theta1, theta2>=M.chart('u r theta1:(0,pi) theta2:(0,2*phi)')"
   ]
  },
  {
   "cell_type": "code",
   "execution_count": 136,
   "id": "b38a0710-4921-4b02-9e7e-499ed82c84c9",
   "metadata": {},
   "outputs": [
    {
     "data": {
      "text/html": [
       "<html><script type=\"math/tex; mode=display\">\\newcommand{\\Bold}[1]{\\mathbf{#1}}\\begin{array}{lcl} g_{ \\, \\theta_{1} \\, \\theta_{1} }^{ \\phantom{\\, \\theta_{1}}\\phantom{\\, \\theta_{1}} } & = & \\gamma_{22}\\left(u, r, \\theta_{1}, \\theta_{2}\\right) \\\\ g_{ \\, \\theta_{1} \\, \\theta_{2} }^{ \\phantom{\\, \\theta_{1}}\\phantom{\\, \\theta_{2}} } & = & \\gamma_{23}\\left(u, r, \\theta_{1}, \\theta_{2}\\right) \\\\ g_{ \\, \\theta_{2} \\, \\theta_{1} }^{ \\phantom{\\, \\theta_{2}}\\phantom{\\, \\theta_{1}} } & = & \\gamma_{23}\\left(u, r, \\theta_{1}, \\theta_{2}\\right) \\\\ g_{ \\, \\theta_{2} \\, \\theta_{2} }^{ \\phantom{\\, \\theta_{2}}\\phantom{\\, \\theta_{2}} } & = & \\gamma_{33}\\left(u, r, \\theta_{1}, \\theta_{2}\\right) \\end{array}</script></html>"
      ],
      "text/latex": [
       "$$\\newcommand{\\Bold}[1]{\\mathbf{#1}}\\begin{array}{lcl} g_{ \\, \\theta_{1} \\, \\theta_{1} }^{ \\phantom{\\, \\theta_{1}}\\phantom{\\, \\theta_{1}} } & = & \\gamma_{22}\\left(u, r, \\theta_{1}, \\theta_{2}\\right) \\\\ g_{ \\, \\theta_{1} \\, \\theta_{2} }^{ \\phantom{\\, \\theta_{1}}\\phantom{\\, \\theta_{2}} } & = & \\gamma_{23}\\left(u, r, \\theta_{1}, \\theta_{2}\\right) \\\\ g_{ \\, \\theta_{2} \\, \\theta_{1} }^{ \\phantom{\\, \\theta_{2}}\\phantom{\\, \\theta_{1}} } & = & \\gamma_{23}\\left(u, r, \\theta_{1}, \\theta_{2}\\right) \\\\ g_{ \\, \\theta_{2} \\, \\theta_{2} }^{ \\phantom{\\, \\theta_{2}}\\phantom{\\, \\theta_{2}} } & = & \\gamma_{33}\\left(u, r, \\theta_{1}, \\theta_{2}\\right) \\end{array}$$"
      ],
      "text/plain": [
       "g_theta1,theta1 = gamma22(u, r, theta1, theta2) \n",
       "g_theta1,theta2 = gamma23(u, r, theta1, theta2) \n",
       "g_theta2,theta1 = gamma23(u, r, theta1, theta2) \n",
       "g_theta2,theta2 = gamma33(u, r, theta1, theta2) "
      ]
     },
     "execution_count": 136,
     "metadata": {},
     "output_type": "execute_result"
    }
   ],
   "source": [
    "# Angular part of the metric \n",
    "gamma22 = function('gamma22', latex_name=r'\\gamma_{22}')(u, r, theta1, theta2)  \n",
    "gamma23 = function('gamma23', latex_name=r'\\gamma_{23}')(u, r, theta1, theta2)  \n",
    "gamma33 = function('gamma33', latex_name=r'\\gamma_{33}')(u, r, theta1, theta2)\n",
    "\n",
    "# Set components\n",
    "g = M.metric()\n",
    "g[2,2] = gamma22\n",
    "g[2,3] = gamma23\n",
    "g[3,2] = gamma23\n",
    "g[3,3] = gamma33\n",
    "\n",
    "g.display_comp()"
   ]
  },
  {
   "cell_type": "code",
   "execution_count": 137,
   "id": "95cb929e-efbf-4838-b566-a0cc44d3e10f",
   "metadata": {},
   "outputs": [],
   "source": [
    "frame = M.default_frame()\n",
    "g_comp = g.comp(frame)"
   ]
  },
  {
   "cell_type": "code",
   "execution_count": 139,
   "id": "ee76ab43-97d7-4a23-b1f0-cc3ac6ca9981",
   "metadata": {},
   "outputs": [
    {
     "data": {
      "text/html": [
       "<html><script type=\"math/tex; mode=display\">\\newcommand{\\Bold}[1]{\\mathbf{#1}}\\begin{array}{lcl} V_{\\phantom{\\, \\theta_{1}}}^{ \\, \\theta_{1} } & = & V^2\\left(u, r, \\theta_{1}, \\theta_{2}\\right) \\\\ V_{\\phantom{\\, \\theta_{2}}}^{ \\, \\theta_{2} } & = & V^3\\left(u, r, \\theta_{1}, \\theta_{2}\\right) \\end{array}</script></html>"
      ],
      "text/latex": [
       "$$\\newcommand{\\Bold}[1]{\\mathbf{#1}}\\begin{array}{lcl} V_{\\phantom{\\, \\theta_{1}}}^{ \\, \\theta_{1} } & = & V^2\\left(u, r, \\theta_{1}, \\theta_{2}\\right) \\\\ V_{\\phantom{\\, \\theta_{2}}}^{ \\, \\theta_{2} } & = & V^3\\left(u, r, \\theta_{1}, \\theta_{2}\\right) \\end{array}$$"
      ],
      "text/plain": [
       "V^theta1 = V2(u, r, theta1, theta2) \n",
       "V^theta2 = V3(u, r, theta1, theta2) "
      ]
     },
     "execution_count": 139,
     "metadata": {},
     "output_type": "execute_result"
    }
   ],
   "source": [
    "V = M.vector_field(name='V') #contravariant vector field\n",
    "# V = M.diff_form(1, name='V') #covariant vector field\n",
    "\n",
    "V[2] = function('V2', latex_name=r'V^2')(u, r, theta1, theta2)\n",
    "V[3] = function('V3', latex_name=r'V^3')(u, r, theta1, theta2)\n",
    "\n",
    "V.display_comp()"
   ]
  },
  {
   "cell_type": "code",
   "execution_count": 126,
   "id": "223ee2cb-5a47-42b4-9c89-28df041552bf",
   "metadata": {},
   "outputs": [],
   "source": [
    "# a func for calculation of G for arbitrary\n",
    "\n",
    "def  partial_contraction(g_comp, a, b, idx_range):\n",
    "      return sum(g[A,B]*V[A]*V[B] for A in  idx_range  for B in idx_range)"
   ]
  },
  {
   "cell_type": "code",
   "execution_count": 118,
   "id": "19bf6faf",
   "metadata": {},
   "outputs": [
    {
     "data": {
      "text/html": [
       "<html><script type=\"math/tex; mode=display\">\\newcommand{\\Bold}[1]{\\mathbf{#1}}r^{2} V^2\\left(u, r, \\theta_{1}, \\theta_{2}\\right)^{2} \\gamma_{22}\\left(u, r, \\theta_{1}, \\theta_{2}\\right) + 2 \\, r^{2} V^2\\left(u, r, \\theta_{1}, \\theta_{2}\\right) V^3\\left(u, r, \\theta_{1}, \\theta_{2}\\right) \\gamma_{23}\\left(u, r, \\theta_{1}, \\theta_{2}\\right) + r^{2} V^3\\left(u, r, \\theta_{1}, \\theta_{2}\\right)^{2} \\gamma_{33}\\left(u, r, \\theta_{1}, \\theta_{2}\\right)</script></html>"
      ],
      "text/latex": [
       "$$\\newcommand{\\Bold}[1]{\\mathbf{#1}}r^{2} V^2\\left(u, r, \\theta_{1}, \\theta_{2}\\right)^{2} \\gamma_{22}\\left(u, r, \\theta_{1}, \\theta_{2}\\right) + 2 \\, r^{2} V^2\\left(u, r, \\theta_{1}, \\theta_{2}\\right) V^3\\left(u, r, \\theta_{1}, \\theta_{2}\\right) \\gamma_{23}\\left(u, r, \\theta_{1}, \\theta_{2}\\right) + r^{2} V^3\\left(u, r, \\theta_{1}, \\theta_{2}\\right)^{2} \\gamma_{33}\\left(u, r, \\theta_{1}, \\theta_{2}\\right)$$"
      ],
      "text/plain": [
       "r^2*V2(u, r, theta1, theta2)^2*gamma22(u, r, theta1, theta2) + 2*r^2*V2(u, r, theta1, theta2)*V3(u, r, theta1, theta2)*gamma23(u, r, theta1, theta2) + r^2*V3(u, r, theta1, theta2)^2*gamma33(u, r, theta1, theta2)"
      ]
     },
     "metadata": {},
     "output_type": "display_data"
    }
   ],
   "source": [
    "G = partial_contraction(g_comp, V, V, [2, 3])\n",
    "show(G)"
   ]
  },
  {
   "cell_type": "code",
   "execution_count": 119,
   "id": "f63b18f9",
   "metadata": {},
   "outputs": [],
   "source": [
    "#  a func for just writing G \n",
    "\n",
    "def latex_einstein_summation(expr_name='G', metric_name='g', A_name='V', B_name='V', \n",
    "                             indices=('A','B'), start= 0 , end= 0):\n",
    "    A, B = indices\n",
    "    latex_str = rf\"{expr_name} = \\sum_{{{A},{B}={start}}}^{{{end}}} {metric_name}_{{{A}{B}}} {A_name}^{{{A}}} {B_name}^{{{B}}}\"\n",
    "    show(LatexExpr(latex_str))\n",
    "    "
   ]
  },
  {
   "cell_type": "code",
   "execution_count": 120,
   "id": "5b5c67b2",
   "metadata": {},
   "outputs": [
    {
     "data": {
      "text/html": [
       "<html><script type=\"math/tex; mode=display\">\\newcommand{\\Bold}[1]{\\mathbf{#1}}G = \\sum_{A,B=2}^{3} g_{AB} V^{A} V^{B}</script></html>"
      ],
      "text/latex": [
       "$$\\newcommand{\\Bold}[1]{\\mathbf{#1}}G = \\sum_{A,B=2}^{3} g_{AB} V^{A} V^{B}$$"
      ],
      "text/plain": [
       "G = \\sum_{A,B=2}^{3} g_{AB} V^{A} V^{B}"
      ]
     },
     "metadata": {},
     "output_type": "display_data"
    }
   ],
   "source": [
    "latex_einstein_summation(start=2, end=3)   "
   ]
  },
  {
   "cell_type": "code",
   "execution_count": 144,
   "id": "7299493f",
   "metadata": {},
   "outputs": [
    {
     "data": {
      "text/html": [
       "<html><script type=\"math/tex; mode=display\">\\newcommand{\\Bold}[1]{\\mathbf{#1}}U\\left(u, r, \\theta_{1}, \\theta_{2}\\right) = -\\frac{2 \\, m}{r} - \\frac{2 \\, M}{r^{2}} + 1</script></html>"
      ],
      "text/latex": [
       "$$\\newcommand{\\Bold}[1]{\\mathbf{#1}}U\\left(u, r, \\theta_{1}, \\theta_{2}\\right) = -\\frac{2 \\, m}{r} - \\frac{2 \\, M}{r^{2}} + 1$$"
      ],
      "text/plain": [
       "U(u, r, theta1, theta2) == -2*m/r - 2*M/r^2 + 1"
      ]
     },
     "metadata": {},
     "output_type": "display_data"
    },
    {
     "data": {
      "text/html": [
       "<html><script type=\"math/tex; mode=display\">\\newcommand{\\Bold}[1]{\\mathbf{#1}}\\beta_{{\\rm metric}}\\left(u, r, \\theta_{1}, \\theta_{2}\\right) = \\frac{{\\beta_{0}}}{r} + \\frac{{\\beta_{1}}}{r^{2}} + \\frac{{\\beta_{2}}}{r^{3}}</script></html>"
      ],
      "text/latex": [
       "$$\\newcommand{\\Bold}[1]{\\mathbf{#1}}\\beta_{{\\rm metric}}\\left(u, r, \\theta_{1}, \\theta_{2}\\right) = \\frac{{\\beta_{0}}}{r} + \\frac{{\\beta_{1}}}{r^{2}} + \\frac{{\\beta_{2}}}{r^{3}}$$"
      ],
      "text/plain": [
       "beta_metric(u, r, theta1, theta2) == beta_0/r + beta_1/r^2 + beta_2/r^3"
      ]
     },
     "metadata": {},
     "output_type": "display_data"
    }
   ],
   "source": [
    "#metric functions\n",
    "U = function('U')(u, r, theta1, theta2)\n",
    "var('m M')\n",
    "U_exp= 1-2*m/r -2*M/r^2\n",
    "show(U == U_exp)\n",
    "\n",
    "beta_metric = function('beta_metric')(u, r, theta1, theta2)\n",
    "var('beta_0', latex_name=r'\\beta_{0}')\n",
    "var('beta_1', latex_name=r'\\beta_{1}')\n",
    "var('beta_2', latex_name=r'\\beta_{2}')\n",
    "beta_metric_exp=beta_0/r +beta_1/r^2+ beta_2/r^3\n",
    "show(beta_metric== beta_metric_exp)\n"
   ]
  },
  {
   "cell_type": "code",
   "execution_count": 92,
   "id": "a9d08945",
   "metadata": {},
   "outputs": [
    {
     "data": {
      "text/html": [
       "<html><script type=\"math/tex; mode=display\">\\newcommand{\\Bold}[1]{\\mathbf{#1}}\\frac{r^{4} V^2\\left(u, r, \\theta_{1}, \\theta_{2}\\right)^{2} \\gamma_{22}\\left(u, r, \\theta_{1}, \\theta_{2}\\right) + 2 \\, r^{4} V^2\\left(u, r, \\theta_{1}, \\theta_{2}\\right) V^3\\left(u, r, \\theta_{1}, \\theta_{2}\\right) \\gamma_{23}\\left(u, r, \\theta_{1}, \\theta_{2}\\right) + r^{4} V^3\\left(u, r, \\theta_{1}, \\theta_{2}\\right)^{2} \\gamma_{33}\\left(u, r, \\theta_{1}, \\theta_{2}\\right) + {\\left(2 \\, m r - r^{2} + 2 \\, M\\right)} e^{\\left(\\frac{2 \\, {\\beta_{0}}}{r} + \\frac{2 \\, {\\beta_{1}}}{r^{2}} + \\frac{2 \\, {\\beta_{2}}}{r^{3}}\\right)}}{r^{2}}</script></html>"
      ],
      "text/latex": [
       "$$\\newcommand{\\Bold}[1]{\\mathbf{#1}}\\frac{r^{4} V^2\\left(u, r, \\theta_{1}, \\theta_{2}\\right)^{2} \\gamma_{22}\\left(u, r, \\theta_{1}, \\theta_{2}\\right) + 2 \\, r^{4} V^2\\left(u, r, \\theta_{1}, \\theta_{2}\\right) V^3\\left(u, r, \\theta_{1}, \\theta_{2}\\right) \\gamma_{23}\\left(u, r, \\theta_{1}, \\theta_{2}\\right) + r^{4} V^3\\left(u, r, \\theta_{1}, \\theta_{2}\\right)^{2} \\gamma_{33}\\left(u, r, \\theta_{1}, \\theta_{2}\\right) + {\\left(2 \\, m r - r^{2} + 2 \\, M\\right)} e^{\\left(\\frac{2 \\, {\\beta_{0}}}{r} + \\frac{2 \\, {\\beta_{1}}}{r^{2}} + \\frac{2 \\, {\\beta_{2}}}{r^{3}}\\right)}}{r^{2}}$$"
      ],
      "text/plain": [
       "(r^4*V2(u, r, theta1, theta2)^2*gamma22(u, r, theta1, theta2) + 2*r^4*V2(u, r, theta1, theta2)*V3(u, r, theta1, theta2)*gamma23(u, r, theta1, theta2) + r^4*V3(u, r, theta1, theta2)^2*gamma33(u, r, theta1, theta2) + (2*m*r - r^2 + 2*M)*e^(2*beta_0/r + 2*beta_1/r^2 + 2*beta_2/r^3))/r^2"
      ]
     },
     "metadata": {},
     "output_type": "display_data"
    }
   ],
   "source": [
    "# g_inv = g.inverse()\n",
    "\n",
    "g[0,0] = -U * exp(2 * beta_metric) + r^2 * G\n",
    "\n",
    "show(g[0,0])\n"
   ]
  },
  {
   "cell_type": "code",
   "execution_count": 93,
   "id": "84bdefb4-e266-40a5-8674-6d8ba7c3675b",
   "metadata": {},
   "outputs": [],
   "source": [
    "# g_{01} = g_{10}\n",
    "g[0,1] = g[1,0] = -exp(2 * beta_metric)"
   ]
  },
  {
   "cell_type": "code",
   "execution_count": 94,
   "id": "c55aefde-01fa-4608-8a4d-3ed5f6cf3691",
   "metadata": {},
   "outputs": [],
   "source": [
    "# g_{0A} = g_{A0}\n",
    "for A in [2, 3]:\n",
    "    g[0, A] = g[A, 0] = -r**2 * sum(g_comp[A,B] * V[B] for B in [2, 3])"
   ]
  },
  {
   "cell_type": "code",
   "execution_count": 95,
   "id": "2eea4c25-5643-4631-b0a3-e88a45bdbe8f",
   "metadata": {},
   "outputs": [],
   "source": [
    "# g_{AB} (angular components)\n",
    "g[2,2] = r^2 * gamma22\n",
    "g[2,3] = g[3,2] = r^2 * gamma23\n",
    "g[3,3] = r^2 * gamma33"
   ]
  },
  {
   "cell_type": "code",
   "execution_count": 96,
   "id": "98cb11be-cc1b-4a18-91c5-e39cec7c510c",
   "metadata": {
    "scrolled": true
   },
   "outputs": [
    {
     "data": {
      "text/html": [
       "<html><script type=\"math/tex; mode=display\">\\newcommand{\\Bold}[1]{\\mathbf{#1}}g = \\left( \\frac{r^{4} V^2\\left(u, r, \\theta_{1}, \\theta_{2}\\right)^{2} \\gamma_{22}\\left(u, r, \\theta_{1}, \\theta_{2}\\right) + 2 \\, r^{4} V^2\\left(u, r, \\theta_{1}, \\theta_{2}\\right) V^3\\left(u, r, \\theta_{1}, \\theta_{2}\\right) \\gamma_{23}\\left(u, r, \\theta_{1}, \\theta_{2}\\right) + r^{4} V^3\\left(u, r, \\theta_{1}, \\theta_{2}\\right)^{2} \\gamma_{33}\\left(u, r, \\theta_{1}, \\theta_{2}\\right) + {\\left(2 \\, m r - r^{2} + 2 \\, M\\right)} e^{\\left(\\frac{2 \\, {\\beta_{0}}}{r} + \\frac{2 \\, {\\beta_{1}}}{r^{2}} + \\frac{2 \\, {\\beta_{2}}}{r^{3}}\\right)}}{r^{2}} \\right) \\mathrm{d} u\\otimes \\mathrm{d} u -e^{\\left(\\frac{2 \\, {\\beta_{0}}}{r} + \\frac{2 \\, {\\beta_{1}}}{r^{2}} + \\frac{2 \\, {\\beta_{2}}}{r^{3}}\\right)} \\mathrm{d} u\\otimes \\mathrm{d} r -{\\left(V^2\\left(u, r, \\theta_{1}, \\theta_{2}\\right) \\gamma_{22}\\left(u, r, \\theta_{1}, \\theta_{2}\\right) + V^3\\left(u, r, \\theta_{1}, \\theta_{2}\\right) \\gamma_{23}\\left(u, r, \\theta_{1}, \\theta_{2}\\right)\\right)} r^{2} \\mathrm{d} u\\otimes \\mathrm{d} \\theta_{1} -{\\left(V^2\\left(u, r, \\theta_{1}, \\theta_{2}\\right) \\gamma_{23}\\left(u, r, \\theta_{1}, \\theta_{2}\\right) + V^3\\left(u, r, \\theta_{1}, \\theta_{2}\\right) \\gamma_{33}\\left(u, r, \\theta_{1}, \\theta_{2}\\right)\\right)} r^{2} \\mathrm{d} u\\otimes \\mathrm{d} \\theta_{2} -e^{\\left(\\frac{2 \\, {\\beta_{0}}}{r} + \\frac{2 \\, {\\beta_{1}}}{r^{2}} + \\frac{2 \\, {\\beta_{2}}}{r^{3}}\\right)} \\mathrm{d} r\\otimes \\mathrm{d} u -{\\left(V^2\\left(u, r, \\theta_{1}, \\theta_{2}\\right) \\gamma_{22}\\left(u, r, \\theta_{1}, \\theta_{2}\\right) + V^3\\left(u, r, \\theta_{1}, \\theta_{2}\\right) \\gamma_{23}\\left(u, r, \\theta_{1}, \\theta_{2}\\right)\\right)} r^{2} \\mathrm{d} \\theta_{1}\\otimes \\mathrm{d} u + r^{2} \\gamma_{22}\\left(u, r, \\theta_{1}, \\theta_{2}\\right) \\mathrm{d} \\theta_{1}\\otimes \\mathrm{d} \\theta_{1} + r^{2} \\gamma_{23}\\left(u, r, \\theta_{1}, \\theta_{2}\\right) \\mathrm{d} \\theta_{1}\\otimes \\mathrm{d} \\theta_{2} -{\\left(V^2\\left(u, r, \\theta_{1}, \\theta_{2}\\right) \\gamma_{23}\\left(u, r, \\theta_{1}, \\theta_{2}\\right) + V^3\\left(u, r, \\theta_{1}, \\theta_{2}\\right) \\gamma_{33}\\left(u, r, \\theta_{1}, \\theta_{2}\\right)\\right)} r^{2} \\mathrm{d} \\theta_{2}\\otimes \\mathrm{d} u + r^{2} \\gamma_{23}\\left(u, r, \\theta_{1}, \\theta_{2}\\right) \\mathrm{d} \\theta_{2}\\otimes \\mathrm{d} \\theta_{1} + r^{2} \\gamma_{33}\\left(u, r, \\theta_{1}, \\theta_{2}\\right) \\mathrm{d} \\theta_{2}\\otimes \\mathrm{d} \\theta_{2}</script></html>"
      ],
      "text/latex": [
       "$$\\newcommand{\\Bold}[1]{\\mathbf{#1}}g = \\left( \\frac{r^{4} V^2\\left(u, r, \\theta_{1}, \\theta_{2}\\right)^{2} \\gamma_{22}\\left(u, r, \\theta_{1}, \\theta_{2}\\right) + 2 \\, r^{4} V^2\\left(u, r, \\theta_{1}, \\theta_{2}\\right) V^3\\left(u, r, \\theta_{1}, \\theta_{2}\\right) \\gamma_{23}\\left(u, r, \\theta_{1}, \\theta_{2}\\right) + r^{4} V^3\\left(u, r, \\theta_{1}, \\theta_{2}\\right)^{2} \\gamma_{33}\\left(u, r, \\theta_{1}, \\theta_{2}\\right) + {\\left(2 \\, m r - r^{2} + 2 \\, M\\right)} e^{\\left(\\frac{2 \\, {\\beta_{0}}}{r} + \\frac{2 \\, {\\beta_{1}}}{r^{2}} + \\frac{2 \\, {\\beta_{2}}}{r^{3}}\\right)}}{r^{2}} \\right) \\mathrm{d} u\\otimes \\mathrm{d} u -e^{\\left(\\frac{2 \\, {\\beta_{0}}}{r} + \\frac{2 \\, {\\beta_{1}}}{r^{2}} + \\frac{2 \\, {\\beta_{2}}}{r^{3}}\\right)} \\mathrm{d} u\\otimes \\mathrm{d} r -{\\left(V^2\\left(u, r, \\theta_{1}, \\theta_{2}\\right) \\gamma_{22}\\left(u, r, \\theta_{1}, \\theta_{2}\\right) + V^3\\left(u, r, \\theta_{1}, \\theta_{2}\\right) \\gamma_{23}\\left(u, r, \\theta_{1}, \\theta_{2}\\right)\\right)} r^{2} \\mathrm{d} u\\otimes \\mathrm{d} \\theta_{1} -{\\left(V^2\\left(u, r, \\theta_{1}, \\theta_{2}\\right) \\gamma_{23}\\left(u, r, \\theta_{1}, \\theta_{2}\\right) + V^3\\left(u, r, \\theta_{1}, \\theta_{2}\\right) \\gamma_{33}\\left(u, r, \\theta_{1}, \\theta_{2}\\right)\\right)} r^{2} \\mathrm{d} u\\otimes \\mathrm{d} \\theta_{2} -e^{\\left(\\frac{2 \\, {\\beta_{0}}}{r} + \\frac{2 \\, {\\beta_{1}}}{r^{2}} + \\frac{2 \\, {\\beta_{2}}}{r^{3}}\\right)} \\mathrm{d} r\\otimes \\mathrm{d} u -{\\left(V^2\\left(u, r, \\theta_{1}, \\theta_{2}\\right) \\gamma_{22}\\left(u, r, \\theta_{1}, \\theta_{2}\\right) + V^3\\left(u, r, \\theta_{1}, \\theta_{2}\\right) \\gamma_{23}\\left(u, r, \\theta_{1}, \\theta_{2}\\right)\\right)} r^{2} \\mathrm{d} \\theta_{1}\\otimes \\mathrm{d} u + r^{2} \\gamma_{22}\\left(u, r, \\theta_{1}, \\theta_{2}\\right) \\mathrm{d} \\theta_{1}\\otimes \\mathrm{d} \\theta_{1} + r^{2} \\gamma_{23}\\left(u, r, \\theta_{1}, \\theta_{2}\\right) \\mathrm{d} \\theta_{1}\\otimes \\mathrm{d} \\theta_{2} -{\\left(V^2\\left(u, r, \\theta_{1}, \\theta_{2}\\right) \\gamma_{23}\\left(u, r, \\theta_{1}, \\theta_{2}\\right) + V^3\\left(u, r, \\theta_{1}, \\theta_{2}\\right) \\gamma_{33}\\left(u, r, \\theta_{1}, \\theta_{2}\\right)\\right)} r^{2} \\mathrm{d} \\theta_{2}\\otimes \\mathrm{d} u + r^{2} \\gamma_{23}\\left(u, r, \\theta_{1}, \\theta_{2}\\right) \\mathrm{d} \\theta_{2}\\otimes \\mathrm{d} \\theta_{1} + r^{2} \\gamma_{33}\\left(u, r, \\theta_{1}, \\theta_{2}\\right) \\mathrm{d} \\theta_{2}\\otimes \\mathrm{d} \\theta_{2}$$"
      ],
      "text/plain": [
       "g = (r^4*V2(u, r, theta1, theta2)^2*gamma22(u, r, theta1, theta2) + 2*r^4*V2(u, r, theta1, theta2)*V3(u, r, theta1, theta2)*gamma23(u, r, theta1, theta2) + r^4*V3(u, r, theta1, theta2)^2*gamma33(u, r, theta1, theta2) + (2*m*r - r^2 + 2*M)*e^(2*beta_0/r + 2*beta_1/r^2 + 2*beta_2/r^3))/r^2 du⊗du - e^(2*beta_0/r + 2*beta_1/r^2 + 2*beta_2/r^3) du⊗dr - (V2(u, r, theta1, theta2)*gamma22(u, r, theta1, theta2) + V3(u, r, theta1, theta2)*gamma23(u, r, theta1, theta2))*r^2 du⊗dtheta1 - (V2(u, r, theta1, theta2)*gamma23(u, r, theta1, theta2) + V3(u, r, theta1, theta2)*gamma33(u, r, theta1, theta2))*r^2 du⊗dtheta2 - e^(2*beta_0/r + 2*beta_1/r^2 + 2*beta_2/r^3) dr⊗du - (V2(u, r, theta1, theta2)*gamma22(u, r, theta1, theta2) + V3(u, r, theta1, theta2)*gamma23(u, r, theta1, theta2))*r^2 dtheta1⊗du + r^2*gamma22(u, r, theta1, theta2) dtheta1⊗dtheta1 + r^2*gamma23(u, r, theta1, theta2) dtheta1⊗dtheta2 - (V2(u, r, theta1, theta2)*gamma23(u, r, theta1, theta2) + V3(u, r, theta1, theta2)*gamma33(u, r, theta1, theta2))*r^2 dtheta2⊗du + r^2*gamma23(u, r, theta1, theta2) dtheta2⊗dtheta1 + r^2*gamma33(u, r, theta1, theta2) dtheta2⊗dtheta2"
      ]
     },
     "execution_count": 96,
     "metadata": {},
     "output_type": "execute_result"
    }
   ],
   "source": [
    "g.display()"
   ]
  },
  {
   "cell_type": "code",
   "execution_count": 97,
   "id": "9bacefeb-8832-4f59-9880-54a3ef637ac6",
   "metadata": {
    "scrolled": true
   },
   "outputs": [
    {
     "data": {
      "text/html": [
       "<html><script type=\"math/tex; mode=display\">\\newcommand{\\Bold}[1]{\\mathbf{#1}}\\left(\\begin{array}{rrrr}\n",
       "\\frac{r^{4} V^2\\left(u, r, \\theta_{1}, \\theta_{2}\\right)^{2} \\gamma_{22}\\left(u, r, \\theta_{1}, \\theta_{2}\\right) + 2 \\, r^{4} V^2\\left(u, r, \\theta_{1}, \\theta_{2}\\right) V^3\\left(u, r, \\theta_{1}, \\theta_{2}\\right) \\gamma_{23}\\left(u, r, \\theta_{1}, \\theta_{2}\\right) + r^{4} V^3\\left(u, r, \\theta_{1}, \\theta_{2}\\right)^{2} \\gamma_{33}\\left(u, r, \\theta_{1}, \\theta_{2}\\right) + {\\left(2 \\, m r - r^{2} + 2 \\, M\\right)} e^{\\left(\\frac{2 \\, {\\beta_{0}}}{r} + \\frac{2 \\, {\\beta_{1}}}{r^{2}} + \\frac{2 \\, {\\beta_{2}}}{r^{3}}\\right)}}{r^{2}} & -e^{\\left(\\frac{2 \\, {\\beta_{0}}}{r} + \\frac{2 \\, {\\beta_{1}}}{r^{2}} + \\frac{2 \\, {\\beta_{2}}}{r^{3}}\\right)} & -{\\left(V^2\\left(u, r, \\theta_{1}, \\theta_{2}\\right) \\gamma_{22}\\left(u, r, \\theta_{1}, \\theta_{2}\\right) + V^3\\left(u, r, \\theta_{1}, \\theta_{2}\\right) \\gamma_{23}\\left(u, r, \\theta_{1}, \\theta_{2}\\right)\\right)} r^{2} & -{\\left(V^2\\left(u, r, \\theta_{1}, \\theta_{2}\\right) \\gamma_{23}\\left(u, r, \\theta_{1}, \\theta_{2}\\right) + V^3\\left(u, r, \\theta_{1}, \\theta_{2}\\right) \\gamma_{33}\\left(u, r, \\theta_{1}, \\theta_{2}\\right)\\right)} r^{2} \\\\\n",
       "-e^{\\left(\\frac{2 \\, {\\beta_{0}}}{r} + \\frac{2 \\, {\\beta_{1}}}{r^{2}} + \\frac{2 \\, {\\beta_{2}}}{r^{3}}\\right)} & 0 & 0 & 0 \\\\\n",
       "-{\\left(V^2\\left(u, r, \\theta_{1}, \\theta_{2}\\right) \\gamma_{22}\\left(u, r, \\theta_{1}, \\theta_{2}\\right) + V^3\\left(u, r, \\theta_{1}, \\theta_{2}\\right) \\gamma_{23}\\left(u, r, \\theta_{1}, \\theta_{2}\\right)\\right)} r^{2} & 0 & r^{2} \\gamma_{22}\\left(u, r, \\theta_{1}, \\theta_{2}\\right) & r^{2} \\gamma_{23}\\left(u, r, \\theta_{1}, \\theta_{2}\\right) \\\\\n",
       "-{\\left(V^2\\left(u, r, \\theta_{1}, \\theta_{2}\\right) \\gamma_{23}\\left(u, r, \\theta_{1}, \\theta_{2}\\right) + V^3\\left(u, r, \\theta_{1}, \\theta_{2}\\right) \\gamma_{33}\\left(u, r, \\theta_{1}, \\theta_{2}\\right)\\right)} r^{2} & 0 & r^{2} \\gamma_{23}\\left(u, r, \\theta_{1}, \\theta_{2}\\right) & r^{2} \\gamma_{33}\\left(u, r, \\theta_{1}, \\theta_{2}\\right)\n",
       "\\end{array}\\right)</script></html>"
      ],
      "text/latex": [
       "$$\\newcommand{\\Bold}[1]{\\mathbf{#1}}\\left(\\begin{array}{rrrr}\n",
       "\\frac{r^{4} V^2\\left(u, r, \\theta_{1}, \\theta_{2}\\right)^{2} \\gamma_{22}\\left(u, r, \\theta_{1}, \\theta_{2}\\right) + 2 \\, r^{4} V^2\\left(u, r, \\theta_{1}, \\theta_{2}\\right) V^3\\left(u, r, \\theta_{1}, \\theta_{2}\\right) \\gamma_{23}\\left(u, r, \\theta_{1}, \\theta_{2}\\right) + r^{4} V^3\\left(u, r, \\theta_{1}, \\theta_{2}\\right)^{2} \\gamma_{33}\\left(u, r, \\theta_{1}, \\theta_{2}\\right) + {\\left(2 \\, m r - r^{2} + 2 \\, M\\right)} e^{\\left(\\frac{2 \\, {\\beta_{0}}}{r} + \\frac{2 \\, {\\beta_{1}}}{r^{2}} + \\frac{2 \\, {\\beta_{2}}}{r^{3}}\\right)}}{r^{2}} & -e^{\\left(\\frac{2 \\, {\\beta_{0}}}{r} + \\frac{2 \\, {\\beta_{1}}}{r^{2}} + \\frac{2 \\, {\\beta_{2}}}{r^{3}}\\right)} & -{\\left(V^2\\left(u, r, \\theta_{1}, \\theta_{2}\\right) \\gamma_{22}\\left(u, r, \\theta_{1}, \\theta_{2}\\right) + V^3\\left(u, r, \\theta_{1}, \\theta_{2}\\right) \\gamma_{23}\\left(u, r, \\theta_{1}, \\theta_{2}\\right)\\right)} r^{2} & -{\\left(V^2\\left(u, r, \\theta_{1}, \\theta_{2}\\right) \\gamma_{23}\\left(u, r, \\theta_{1}, \\theta_{2}\\right) + V^3\\left(u, r, \\theta_{1}, \\theta_{2}\\right) \\gamma_{33}\\left(u, r, \\theta_{1}, \\theta_{2}\\right)\\right)} r^{2} \\\\\n",
       "-e^{\\left(\\frac{2 \\, {\\beta_{0}}}{r} + \\frac{2 \\, {\\beta_{1}}}{r^{2}} + \\frac{2 \\, {\\beta_{2}}}{r^{3}}\\right)} & 0 & 0 & 0 \\\\\n",
       "-{\\left(V^2\\left(u, r, \\theta_{1}, \\theta_{2}\\right) \\gamma_{22}\\left(u, r, \\theta_{1}, \\theta_{2}\\right) + V^3\\left(u, r, \\theta_{1}, \\theta_{2}\\right) \\gamma_{23}\\left(u, r, \\theta_{1}, \\theta_{2}\\right)\\right)} r^{2} & 0 & r^{2} \\gamma_{22}\\left(u, r, \\theta_{1}, \\theta_{2}\\right) & r^{2} \\gamma_{23}\\left(u, r, \\theta_{1}, \\theta_{2}\\right) \\\\\n",
       "-{\\left(V^2\\left(u, r, \\theta_{1}, \\theta_{2}\\right) \\gamma_{23}\\left(u, r, \\theta_{1}, \\theta_{2}\\right) + V^3\\left(u, r, \\theta_{1}, \\theta_{2}\\right) \\gamma_{33}\\left(u, r, \\theta_{1}, \\theta_{2}\\right)\\right)} r^{2} & 0 & r^{2} \\gamma_{23}\\left(u, r, \\theta_{1}, \\theta_{2}\\right) & r^{2} \\gamma_{33}\\left(u, r, \\theta_{1}, \\theta_{2}\\right)\n",
       "\\end{array}\\right)$$"
      ],
      "text/plain": [
       "[(r^4*V2(u, r, theta1, theta2)^2*gamma22(u, r, theta1, theta2) + 2*r^4*V2(u, r, theta1, theta2)*V3(u, r, theta1, theta2)*gamma23(u, r, theta1, theta2) + r^4*V3(u, r, theta1, theta2)^2*gamma33(u, r, theta1, theta2) + (2*m*r - r^2 + 2*M)*e^(2*beta_0/r + 2*beta_1/r^2 + 2*beta_2/r^3))/r^2                                                                                                                                                                                                                                                -e^(2*beta_0/r + 2*beta_1/r^2 + 2*beta_2/r^3)                                                                                                                                                                       -(V2(u, r, theta1, theta2)*gamma22(u, r, theta1, theta2) + V3(u, r, theta1, theta2)*gamma23(u, r, theta1, theta2))*r^2                                                                                                                                                                       -(V2(u, r, theta1, theta2)*gamma23(u, r, theta1, theta2) + V3(u, r, theta1, theta2)*gamma33(u, r, theta1, theta2))*r^2]\n",
       "[                                                                                                                                                                                                                                               -e^(2*beta_0/r + 2*beta_1/r^2 + 2*beta_2/r^3)                                                                                                                                                                                                                                                                                            0                                                                                                                                                                                                                                                                                            0                                                                                                                                                                                                                                                                                            0]\n",
       "[                                                                                                                                                                      -(V2(u, r, theta1, theta2)*gamma22(u, r, theta1, theta2) + V3(u, r, theta1, theta2)*gamma23(u, r, theta1, theta2))*r^2                                                                                                                                                                                                                                                                                            0                                                                                                                                                                                                                                                            r^2*gamma22(u, r, theta1, theta2)                                                                                                                                                                                                                                                            r^2*gamma23(u, r, theta1, theta2)]\n",
       "[                                                                                                                                                                      -(V2(u, r, theta1, theta2)*gamma23(u, r, theta1, theta2) + V3(u, r, theta1, theta2)*gamma33(u, r, theta1, theta2))*r^2                                                                                                                                                                                                                                                                                            0                                                                                                                                                                                                                                                            r^2*gamma23(u, r, theta1, theta2)                                                                                                                                                                                                                                                            r^2*gamma33(u, r, theta1, theta2)]"
      ]
     },
     "execution_count": 97,
     "metadata": {},
     "output_type": "execute_result"
    }
   ],
   "source": [
    "g[:]"
   ]
  },
  {
   "cell_type": "code",
   "execution_count": 98,
   "id": "80e5fc31-d830-4973-a69c-9dc13c9f3951",
   "metadata": {},
   "outputs": [],
   "source": [
    "# g[0, 0]"
   ]
  },
  {
   "cell_type": "code",
   "execution_count": 99,
   "id": "5281fb8f-6b69-475b-837c-a3c5cf73d906",
   "metadata": {},
   "outputs": [],
   "source": [
    "# Compute inverse metric\n",
    "# g_inv = g.inverse()"
   ]
  },
  {
   "cell_type": "code",
   "execution_count": 100,
   "id": "1ee6e5b8-77b7-4ddc-aed0-c146517334d1",
   "metadata": {},
   "outputs": [],
   "source": [
    "# g_inv.display()"
   ]
  },
  {
   "cell_type": "code",
   "execution_count": 101,
   "id": "00aaedf5-394f-49cc-af10-4c4a54b2b462",
   "metadata": {},
   "outputs": [],
   "source": [
    "# g_inv[:]"
   ]
  },
  {
   "cell_type": "code",
   "execution_count": 102,
   "id": "09371753-2996-4426-92df-b1f9be444c38",
   "metadata": {},
   "outputs": [],
   "source": [
    "g_chris = g.christoffel_symbols()"
   ]
  },
  {
   "cell_type": "code",
   "execution_count": 103,
   "id": "a2bfba91-7eed-4d45-be9b-d408207c50ec",
   "metadata": {},
   "outputs": [
    {
     "data": {
      "text/html": [
       "<html><script type=\"math/tex; mode=display\">\\newcommand{\\Bold}[1]{\\mathbf{#1}}\\frac{{\\left(2 \\, r^{3} \\gamma_{23}\\left(u, r, \\theta_{1}, \\theta_{2}\\right) \\frac{\\partial\\,V^2}{\\partial \\theta_{2}} + 2 \\, r^{3} \\gamma_{33}\\left(u, r, \\theta_{1}, \\theta_{2}\\right) \\frac{\\partial\\,V^3}{\\partial \\theta_{2}} + r^{3} V^2\\left(u, r, \\theta_{1}, \\theta_{2}\\right) \\frac{\\partial\\,\\gamma_{33}}{\\partial \\theta_{1}} + r^{3} V^3\\left(u, r, \\theta_{1}, \\theta_{2}\\right) \\frac{\\partial\\,\\gamma_{33}}{\\partial \\theta_{2}} + r^{3} \\frac{\\partial\\,\\gamma_{33}}{\\partial u} + 2 \\, {\\left(2 \\, m r - r^{2} + 2 \\, M\\right)} \\gamma_{33}\\left(u, r, \\theta_{1}, \\theta_{2}\\right) + {\\left(2 \\, m r^{2} - r^{3} + 2 \\, M r\\right)} \\frac{\\partial\\,\\gamma_{33}}{\\partial r}\\right)} e^{\\left(-\\frac{2 \\, {\\beta_{0}}}{r} - \\frac{2 \\, {\\beta_{1}}}{r^{2}} - \\frac{2 \\, {\\beta_{2}}}{r^{3}}\\right)}}{2 \\, r}</script></html>"
      ],
      "text/latex": [
       "$$\\newcommand{\\Bold}[1]{\\mathbf{#1}}\\frac{{\\left(2 \\, r^{3} \\gamma_{23}\\left(u, r, \\theta_{1}, \\theta_{2}\\right) \\frac{\\partial\\,V^2}{\\partial \\theta_{2}} + 2 \\, r^{3} \\gamma_{33}\\left(u, r, \\theta_{1}, \\theta_{2}\\right) \\frac{\\partial\\,V^3}{\\partial \\theta_{2}} + r^{3} V^2\\left(u, r, \\theta_{1}, \\theta_{2}\\right) \\frac{\\partial\\,\\gamma_{33}}{\\partial \\theta_{1}} + r^{3} V^3\\left(u, r, \\theta_{1}, \\theta_{2}\\right) \\frac{\\partial\\,\\gamma_{33}}{\\partial \\theta_{2}} + r^{3} \\frac{\\partial\\,\\gamma_{33}}{\\partial u} + 2 \\, {\\left(2 \\, m r - r^{2} + 2 \\, M\\right)} \\gamma_{33}\\left(u, r, \\theta_{1}, \\theta_{2}\\right) + {\\left(2 \\, m r^{2} - r^{3} + 2 \\, M r\\right)} \\frac{\\partial\\,\\gamma_{33}}{\\partial r}\\right)} e^{\\left(-\\frac{2 \\, {\\beta_{0}}}{r} - \\frac{2 \\, {\\beta_{1}}}{r^{2}} - \\frac{2 \\, {\\beta_{2}}}{r^{3}}\\right)}}{2 \\, r}$$"
      ],
      "text/plain": [
       "1/2*(2*r^3*gamma23(u, r, theta1, theta2)*d(V2)/dtheta2 + 2*r^3*gamma33(u, r, theta1, theta2)*d(V3)/dtheta2 + r^3*V2(u, r, theta1, theta2)*d(gamma33)/dtheta1 + r^3*V3(u, r, theta1, theta2)*d(gamma33)/dtheta2 + r^3*d(gamma33)/du + 2*(2*m*r - r^2 + 2*M)*gamma33(u, r, theta1, theta2) + (2*m*r^2 - r^3 + 2*M*r)*d(gamma33)/dr)*e^(-2*beta_0/r - 2*beta_1/r^2 - 2*beta_2/r^3)/r"
      ]
     },
     "execution_count": 103,
     "metadata": {},
     "output_type": "execute_result"
    }
   ],
   "source": [
    "g_chris[1, 3, 3]"
   ]
  },
  {
   "cell_type": "code",
   "execution_count": 104,
   "id": "c68521e6-9fd4-4b6d-8113-6cea2ccbc3b0",
   "metadata": {},
   "outputs": [],
   "source": [
    "# g.christoffel_symbols_display()"
   ]
  },
  {
   "cell_type": "code",
   "execution_count": 105,
   "id": "6ef113b9-a969-423f-b854-7f01b33849e4",
   "metadata": {},
   "outputs": [
    {
     "name": "stdout",
     "output_type": "stream",
     "text": [
      "Metric components saved to metric_components.txt\n"
     ]
    }
   ],
   "source": [
    "# save Metric components to file\n",
    "\n",
    "with open('metric_components.txt', 'w') as f:\n",
    "    f.write(\"Metric components g:\\n\\n\")\n",
    "    for i in range(4):\n",
    "        for j in range(4):\n",
    "            comp = g[i,j]\n",
    "            if comp != 0:\n",
    "                # Convert to string for readability\n",
    "                comp_str = latex(comp)\n",
    "                # for LaTeX output: comp_str = latex(comp)\n",
    "                f.write(\"\\\\[ g_\"+ \"{\" + f\"[{i},{j}]\" + \"}\" + f\" = {comp_str} \\\\]\\n\")\n",
    "print(\"Metric components saved to metric_components.txt\")"
   ]
  },
  {
   "cell_type": "code",
   "execution_count": 106,
   "id": "758203bd-c189-4694-82ed-391ba95b7f55",
   "metadata": {},
   "outputs": [
    {
     "name": "stdout",
     "output_type": "stream",
     "text": [
      "Christoffel symbols saved to christoffel_symbols.txt\n"
     ]
    }
   ],
   "source": [
    "# Save Christoffel symbols to file\n",
    "\n",
    "Gamma = g.christoffel_symbols()\n",
    "\n",
    "with open('christoffel_symbols.txt', 'w') as f:\n",
    "    f.write(\"Christoffel symbols (Gamma^i_{jk}):\\n\\n\")\n",
    "    for i in range(4):\n",
    "        for j in range(4):\n",
    "            for k in range(4):\n",
    "                comp = Gamma[i,j,k]\n",
    "                if comp != 0:\n",
    "                    comp_str = latex(comp) #  latex(comp) for LaTeX and str(comp) for machine readable txt\n",
    "                    f.write(f\"\\\\[ \\\\Gamma^{{{i}}}_{{{j}{k}}} = {comp_str} \\\\]\\n\")\n",
    "print(\"Christoffel symbols saved to christoffel_symbols.txt\")"
   ]
  },
  {
   "cell_type": "code",
   "execution_count": 107,
   "id": "f1a64a62",
   "metadata": {},
   "outputs": [],
   "source": [
    "# Compute the Levi-Civita connection\n",
    "nabla = g.connection()"
   ]
  },
  {
   "cell_type": "code",
   "execution_count": 108,
   "id": "53203535",
   "metadata": {},
   "outputs": [],
   "source": [
    "# Compute the Riemann curvature tensor\n",
    "# Riem = nabla.riemann()\n",
    "# Riem.display()"
   ]
  },
  {
   "cell_type": "code",
   "execution_count": null,
   "id": "c7edcc2c-6dce-496d-aa1c-77eaba75327b",
   "metadata": {},
   "outputs": [],
   "source": [
    "# with open('riemann_tensor.txt', 'w') as f:\n",
    "#     f.write(\"Riemann curvature tensor components Riem[i,j,k,l]:\\n\\n\")\n",
    "#     for i in range(4):\n",
    "#         for j in range(4):\n",
    "#             for k in range(4):\n",
    "#                 for l in range(4):\n",
    "#                     comp = Riem[i,j,k,l]\n",
    "#                     if comp != 0:\n",
    "#                         comp_str = latex(comp)  # Use latex(comp) for LaTeX output\n",
    "#                         f.write(f\"Riem[{i},{j},{k},{l}] = {comp_str}\\n\")\n",
    "# print(\"Riemann curvature tensor components saved to riemann_tensor.txt\")"
   ]
  },
  {
   "cell_type": "code",
   "execution_count": null,
   "id": "4aa95d36-8a0b-45a5-ba2a-88d6ab259f73",
   "metadata": {},
   "outputs": [],
   "source": []
  }
 ],
 "metadata": {
  "kernelspec": {
   "display_name": "SageMath 9.5",
   "language": "sage",
   "name": "sagemath"
  },
  "language_info": {
   "codemirror_mode": {
    "name": "ipython",
    "version": 3
   },
   "file_extension": ".py",
   "mimetype": "text/x-python",
   "name": "python",
   "nbconvert_exporter": "python",
   "pygments_lexer": "ipython3",
   "version": "3.10.12"
  }
 },
 "nbformat": 4,
 "nbformat_minor": 5
}
